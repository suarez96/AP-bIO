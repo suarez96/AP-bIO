{
 "cells": [
  {
   "cell_type": "code",
   "execution_count": null,
<<<<<<< HEAD
   "id": "b9742301-5112-4547-ae79-19a74772bea6",
   "metadata": {},
   "outputs": [],
   "source": [
    "from Data import MarshData, FantasiaData\n",
    "from Transforms import WPC\n",
    "import Transforms\n",
    "from Signal import Signal\n",
    "import os\n",
    "import numpy as np\n",
    "\n",
    "marsh_dataset = [\n",
    "    MarshData(f\"../MARSH/{i}/\") for i in os.listdir(\"../MARSH/\") if len(i) == 4\n",
    "]"
   ]
  },
  {
   "cell_type": "markdown",
   "id": "cdaf22ce-775c-42b8-aab0-ee45cbe4572c",
   "metadata": {},
   "source": [
    "## Working with the [Signal](https://github.com/suarez96/AP-bIO/blob/main/Signal.py#L10) object"
   ]
  },
  {
   "cell_type": "markdown",
   "id": "a80ae162-af1b-4a17-8544-e5b19d5c9fea",
   "metadata": {},
   "source": [
    "### Plot the entire ECG for the first sample\n",
    "Might take some time"
   ]
  },
  {
   "cell_type": "code",
   "execution_count": null,
   "id": "63ed1ac5-51fb-485c-bbf9-b60fcb30cd71",
   "metadata": {},
   "outputs": [],
   "source": [
    "marsh_dataset[0].ECG().plot()"
   ]
  },
  {
   "cell_type": "code",
   "execution_count": null,
   "id": "eb460df6-90a5-46d3-9e83-6c2ab67e753f",
   "metadata": {},
   "outputs": [],
   "source": [
    "marsh_dataset[0].ECG().fft(top_freq=125)"
   ]
  },
  {
   "cell_type": "markdown",
   "id": "6af9cea7-6253-4721-b235-16823c639eae",
   "metadata": {},
   "source": [
    "### Access the raw ECG data"
   ]
  },
  {
   "cell_type": "code",
   "execution_count": null,
   "id": "18db00df-a5da-4a04-bcc4-c9eba202a613",
   "metadata": {},
   "outputs": [],
   "source": [
    "import matplotlib.pyplot as plt\n",
    "marsh_dataset[0].ECG().data.shape"
   ]
  },
  {
   "cell_type": "markdown",
   "id": "7e942e2a-ea48-496b-b1cb-58ae2fe135bf",
   "metadata": {},
   "source": [
    "## Working with [Transforms](https://github.com/suarez96/AP-bIO/blob/main/Transforms.py#L54)"
   ]
  },
  {
   "cell_type": "markdown",
   "id": "ebe247d1-bd11-464c-8aa8-4ca1576b484b",
   "metadata": {},
   "source": [
    "### Initialize the transform in question"
   ]
  },
  {
   "cell_type": "code",
   "execution_count": null,
   "id": "dc53eede-538f-4b44-8dbb-3f68bb1b7391",
   "metadata": {},
   "outputs": [],
   "source": [
    "crop = Transforms.Crop(start=60, end=69)"
   ]
  },
  {
   "cell_type": "markdown",
   "id": "e14b2249-db9c-4296-bafe-b9c457da01d2",
   "metadata": {},
   "source": [
    "### Apply the transform"
   ]
  },
  {
   "cell_type": "code",
   "execution_count": null,
   "id": "9090090d-2e48-4153-8e5f-1c8ff9051775",
   "metadata": {},
   "outputs": [],
   "source": [
    "marsh_dataset[0].ECG().transform(\n",
    "    transforms = [crop]\n",
    ")"
   ]
  },
  {
   "cell_type": "markdown",
   "id": "d1fe554c-c20e-4d9f-bb5a-06edc800372d",
   "metadata": {},
   "source": [
    "### Access the transformed data"
   ]
  },
  {
   "cell_type": "code",
   "execution_count": null,
   "id": "cf0eb449-a151-42d9-8b9e-a2a588227277",
   "metadata": {},
   "outputs": [],
   "source": [
    "marsh_dataset[0].ECG().transformed_data"
   ]
  },
  {
   "cell_type": "markdown",
   "id": "ba3d2f0f-0817-4db0-9987-548a2c60c451",
   "metadata": {},
   "source": [
    "### Plot the transformed data"
   ]
  },
  {
   "cell_type": "code",
   "execution_count": null,
   "id": "61da24c1-be1c-43f2-912f-23c5923db1db",
   "metadata": {},
   "outputs": [],
   "source": [
    "marsh_dataset[0].ECG().plot(transformed=True)"
   ]
=======
   "id": "f85d2d4e",
   "metadata": {},
   "outputs": [],
   "source": []
>>>>>>> 3d4853f (new branch samuel)
  }
 ],
 "metadata": {
  "language_info": {
   "name": "python"
  }
 },
 "nbformat": 4,
 "nbformat_minor": 2
}
